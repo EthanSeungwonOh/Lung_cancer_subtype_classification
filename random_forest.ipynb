{
 "cells": [
  {
   "cell_type": "code",
   "execution_count": 1,
   "metadata": {
    "scrolled": true
   },
   "outputs": [
    {
     "name": "stdout",
     "output_type": "stream",
     "text": [
      "0.19.2\n"
     ]
    }
   ],
   "source": [
    "# Required Python Packages\n",
    "import sklearn\n",
    "print (sklearn.__version__)\n",
    "import pandas as pd\n",
    "from sklearn.model_selection import train_test_split\n",
    "from sklearn.ensemble import RandomForestClassifier\n",
    "from sklearn.metrics import accuracy_score\n",
    "from sklearn.metrics import confusion_matrix"
   ]
  },
  {
   "cell_type": "code",
   "execution_count": 14,
   "metadata": {
    "scrolled": true
   },
   "outputs": [
    {
     "name": "stdout",
     "output_type": "stream",
     "text": [
      "(107, 4)\n",
      "   distribution  VNC  30% area  subtype\n",
      "0             2    1         1        5\n",
      "1             3    1         2        1\n",
      "2             2    1         2        5\n",
      "3             3    1         2        2\n",
      "4             2    1         2        2\n",
      "['distribution' 'VNC' '30% area']\n",
      "subtype\n",
      "Train_x Shape ::  (74, 3)\n",
      "Train_y Shape ::  (74,)\n",
      "Test_x Shape ::  (33, 3)\n",
      "Test_y Shape ::  (33,)\n",
      "<class 'pandas.core.series.Series'>\n",
      "Train 1st_Accuracy ::  0.6756756756756757\n",
      "Test 1st_Accuracy  ::  0.5757575757575758\n",
      "Confusion matrix  [[ 1  9  0]\n",
      " [ 1 18  0]\n",
      " [ 0  4  0]]\n",
      "Train 1st_Accuracy ::  0.6756756756756757\n",
      "Test 1st_Accuracy  ::  0.5757575757575758\n",
      "Confusion matrix  [[ 1  9  0]\n",
      " [ 1 18  0]\n",
      " [ 0  4  0]]\n",
      "Train 1st_Accuracy ::  0.6756756756756757\n",
      "Test 1st_Accuracy  ::  0.5151515151515151\n",
      "Confusion matrix  [[ 1  9  0]\n",
      " [ 1 16  2]\n",
      " [ 0  4  0]]\n",
      "Train 1st_Accuracy ::  0.6756756756756757\n",
      "Test 1st_Accuracy  ::  0.5151515151515151\n",
      "Confusion matrix  [[ 1  9  0]\n",
      " [ 1 16  2]\n",
      " [ 0  4  0]]\n",
      "Train 1st_Accuracy ::  0.6756756756756757\n",
      "Test 1st_Accuracy  ::  0.5757575757575758\n",
      "Confusion matrix  [[ 1  9  0]\n",
      " [ 1 18  0]\n",
      " [ 0  4  0]]\n",
      "Train 1st_Accuracy ::  0.6756756756756757\n",
      "Test 1st_Accuracy  ::  0.5757575757575758\n",
      "Confusion matrix  [[ 1  9  0]\n",
      " [ 1 18  0]\n",
      " [ 0  4  0]]\n",
      "Train 1st_Accuracy ::  0.6756756756756757\n",
      "Test 1st_Accuracy  ::  0.5757575757575758\n",
      "Confusion matrix  [[ 1  9  0]\n",
      " [ 1 18  0]\n",
      " [ 0  4  0]]\n",
      "Train 1st_Accuracy ::  0.6756756756756757\n",
      "Test 1st_Accuracy  ::  0.5151515151515151\n",
      "Confusion matrix  [[ 1  9  0]\n",
      " [ 1 16  2]\n",
      " [ 0  4  0]]\n",
      "Train 1st_Accuracy ::  0.6621621621621622\n",
      "Test 1st_Accuracy  ::  0.5151515151515151\n",
      "Confusion matrix  [[ 1  8  0  1]\n",
      " [ 1 16  2  0]\n",
      " [ 0  4  0  0]\n",
      " [ 0  0  0  0]]\n",
      "Train 1st_Accuracy ::  0.6756756756756757\n",
      "Test 1st_Accuracy  ::  0.5151515151515151\n",
      "Confusion matrix  [[ 1  9  0]\n",
      " [ 1 16  2]\n",
      " [ 0  4  0]]\n"
     ]
    },
    {
     "name": "stderr",
     "output_type": "stream",
     "text": [
      "/usr/local/lib/python3.6/dist-packages/sklearn/model_selection/_split.py:2026: FutureWarning: From version 0.21, test_size will always complement train_size unless both are specified.\n",
      "  FutureWarning)\n"
     ]
    }
   ],
   "source": [
    "def main():\n",
    "\n",
    "    # Load the csv file into pandas dataframe\n",
    "    filename = '~/med_project/data/rfc_dataset.csv'\n",
    "    dataset = pd.read_csv(filename) # <class 'pandas.core.frame.DataFrame'>\n",
    "\n",
    "    # Check dataset size details and if the data is loaded correctly\n",
    "    print(dataset.shape)\n",
    "    print(dataset.head()) \n",
    "    \n",
    "    # Extract column names from csv files\n",
    "    HEADERS = dataset.columns.values # type : Numpy (HEADERS = dataset.columns <class 'pandas.core.indexes.base.Index'>)\n",
    "\n",
    "    # Randomly split dataset into train and test\n",
    "    train_x, test_x, train_y, test_y = train_test_split(dataset[HEADERS[0:-1]], dataset[HEADERS[-1]], train_size=0.7)\n",
    "\n",
    "    # Check if Train and Test dataset are correctly split\n",
    "    print(\"Train_x Shape :: \", train_x.shape)\n",
    "    print(\"Train_y Shape :: \", train_y.shape)\n",
    "    print(\"Test_x Shape :: \", test_x.shape)\n",
    "    print (\"Test_y Shape :: \", test_y.shape)\n",
    "    \n",
    "    for _ in range(10):\n",
    "        # Create random forest classifier instance and train\n",
    "        model = RandomForestClassifier()\n",
    "        model.fit(train_x, train_y)\n",
    "\n",
    "        # Evaluate trained classifier on test set\n",
    "        predictions = model.predict(test_x)\n",
    "        train_acc = accuracy_score(train_y, model.predict(train_x))\n",
    "        test_acc = accuracy_score(test_y, predictions)\n",
    "        \n",
    "        # print out train, test results and draw a confusion matrix\n",
    "        print(\"Train 1st_Accuracy :: \", train_acc)\n",
    "        print(\"Test 1st_Accuracy  :: \", test_acc)\n",
    "        print(\"Confusion matrix \", confusion_matrix(test_y, predictions))\n",
    "    \n",
    "if __name__ == \"__main__\":\n",
    "    main()"
   ]
  },
  {
   "cell_type": "code",
   "execution_count": null,
   "metadata": {},
   "outputs": [],
   "source": []
  }
 ],
 "metadata": {
  "kernelspec": {
   "display_name": "Python 3",
   "language": "python",
   "name": "python3"
  },
  "language_info": {
   "codemirror_mode": {
    "name": "ipython",
    "version": 3
   },
   "file_extension": ".py",
   "mimetype": "text/x-python",
   "name": "python",
   "nbconvert_exporter": "python",
   "pygments_lexer": "ipython3",
   "version": "3.6.5"
  }
 },
 "nbformat": 4,
 "nbformat_minor": 2
}
